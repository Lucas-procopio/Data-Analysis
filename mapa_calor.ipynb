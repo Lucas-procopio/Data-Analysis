{
  "nbformat": 4,
  "nbformat_minor": 0,
  "metadata": {
    "colab": {
      "name": "mapa_calor.ipynb",
      "provenance": [],
      "collapsed_sections": [],
      "authorship_tag": "ABX9TyP91RhqynQblbo+pr2Tsd6Q",
      "include_colab_link": true
    },
    "kernelspec": {
      "name": "python3",
      "display_name": "Python 3"
    },
    "language_info": {
      "name": "python"
    }
  },
  "cells": [
    {
      "cell_type": "markdown",
      "metadata": {
        "id": "view-in-github",
        "colab_type": "text"
      },
      "source": [
        "<a href=\"https://colab.research.google.com/github/Lucas-procopio/Data-Analysis/blob/main/mapa_calor.ipynb\" target=\"_parent\"><img src=\"https://colab.research.google.com/assets/colab-badge.svg\" alt=\"Open In Colab\"/></a>"
      ]
    },
    {
      "cell_type": "code",
      "execution_count": 1,
      "metadata": {
        "id": "ophWsdPrAO4J"
      },
      "outputs": [],
      "source": [
        "# Import lib\n",
        "import pandas as pd\n",
        "import plotly.express as px"
      ]
    },
    {
      "cell_type": "code",
      "source": [
        "# Creating data\n",
        "\n",
        "# Cities\n",
        "Cidade = ['Santo André', 'São Bernardo dos Campos', 'Diadema', \n",
        "           'São Caetano do Sul', 'Mauá', 'Ribeirão Pires', \n",
        "           'Rio Grande da Serra', 'São Paulo']\n",
        "\n",
        "Estado = ['São Paulo', 'São Paulo', 'São Paulo', 'São Paulo',\n",
        "          'São Paulo', 'São Paulo', 'São Paulo', 'São Paulo']\n",
        "\n",
        "# Gerando a Latitude\n",
        "Latitude = [-23.6666, -23.6944, -23.6865, -23.6226, -23.6687, \n",
        "            -23.7141, -23.7452, -23.5489]\n",
        "\n",
        "# Gerando a Longitude\n",
        "Longitude = [-46.5322, -46.5654, -46.6234, -46.5489, -46.4614, \n",
        "             -46.4137, -46.4022, -46.6388]\n",
        "\n",
        "# Valor\n",
        "Vendas = [100, 120, 90, 50, 70, 90, 250, 400]"
      ],
      "metadata": {
        "id": "3CjyuI_-A3Ui"
      },
      "execution_count": 1,
      "outputs": []
    },
    {
      "cell_type": "code",
      "source": [
        "# Transformando as listas em um dicionário\n",
        "dicionario = {\n",
        "    'cidade' : Cidade,\n",
        "    'UF' : Estado,\n",
        "    'Lat' : Latitude,\n",
        "    'Log' : Longitude,\n",
        "    'Vendas': Vendas\n",
        "}\n",
        "\n",
        "# Transformandoo dicionário em uma tabela, usando o DataFrame do pandas\n",
        "base_dados = pd.DataFrame( dicionario )\n",
        "\n",
        "base_dados"
      ],
      "metadata": {
        "colab": {
          "base_uri": "https://localhost:8080/"
        },
        "id": "yLRdPkt0BzaY",
        "outputId": "59379d9c-1e2f-400e-82e8-82908c870af2"
      },
      "execution_count": 2,
      "outputs": [
        {
          "output_type": "error",
          "ename": "NameError",
          "evalue": "ignored",
          "traceback": [
            "\u001b[0;31m---------------------------------------------------------------------------\u001b[0m",
            "\u001b[0;31mNameError\u001b[0m                                 Traceback (most recent call last)",
            "\u001b[0;32m<ipython-input-2-cdb51a52b84d>\u001b[0m in \u001b[0;36m<module>\u001b[0;34m()\u001b[0m\n\u001b[1;32m      9\u001b[0m \u001b[0;34m\u001b[0m\u001b[0m\n\u001b[1;32m     10\u001b[0m \u001b[0;31m# Transformandoo dicionário em uma tabela, usando o DataFrame do pandas\u001b[0m\u001b[0;34m\u001b[0m\u001b[0;34m\u001b[0m\u001b[0;34m\u001b[0m\u001b[0m\n\u001b[0;32m---> 11\u001b[0;31m \u001b[0mbase_dados\u001b[0m \u001b[0;34m=\u001b[0m \u001b[0mpd\u001b[0m\u001b[0;34m.\u001b[0m\u001b[0mDataFrame\u001b[0m\u001b[0;34m(\u001b[0m \u001b[0mdicionario\u001b[0m \u001b[0;34m)\u001b[0m\u001b[0;34m\u001b[0m\u001b[0;34m\u001b[0m\u001b[0m\n\u001b[0m\u001b[1;32m     12\u001b[0m \u001b[0;34m\u001b[0m\u001b[0m\n\u001b[1;32m     13\u001b[0m \u001b[0mbase_dados\u001b[0m\u001b[0;34m\u001b[0m\u001b[0;34m\u001b[0m\u001b[0m\n",
            "\u001b[0;31mNameError\u001b[0m: name 'pd' is not defined"
          ]
        }
      ]
    },
    {
      "cell_type": "code",
      "source": [
        "# Mapa de calor geográfico\n",
        "\n",
        "px.density_mapbox(\n",
        "    base_dados,\n",
        "    lat='Lat',\n",
        "    log='Log',\n",
        "    z='Vendas',\n",
        "    radius=30, # tamanho do raio da figura\n",
        "    center=dict(lat=23.700,lon=-46.5555), # centralizando a figura\n",
        "    zoom=7,\n",
        "    mapbox_style='stamen-terrain'\n",
        ")"
      ],
      "metadata": {
        "colab": {
          "base_uri": "https://localhost:8080/"
        },
        "id": "mbAFKHpqCTdg",
        "outputId": "9bca39d4-9ae3-40b6-cdbc-8720b14f649d"
      },
      "execution_count": 6,
      "outputs": [
        {
          "output_type": "error",
          "ename": "NameError",
          "evalue": "ignored",
          "traceback": [
            "\u001b[0;31m---------------------------------------------------------------------------\u001b[0m",
            "\u001b[0;31mNameError\u001b[0m                                 Traceback (most recent call last)",
            "\u001b[0;32m<ipython-input-6-8230a5e445fc>\u001b[0m in \u001b[0;36m<module>\u001b[0;34m()\u001b[0m\n\u001b[1;32m      1\u001b[0m \u001b[0;31m# Mapa de calor geográfico\u001b[0m\u001b[0;34m\u001b[0m\u001b[0;34m\u001b[0m\u001b[0;34m\u001b[0m\u001b[0m\n\u001b[1;32m      2\u001b[0m \u001b[0;34m\u001b[0m\u001b[0m\n\u001b[0;32m----> 3\u001b[0;31m px.density_mapbox(\n\u001b[0m\u001b[1;32m      4\u001b[0m     \u001b[0mbase_dados\u001b[0m\u001b[0;34m,\u001b[0m\u001b[0;34m\u001b[0m\u001b[0;34m\u001b[0m\u001b[0m\n\u001b[1;32m      5\u001b[0m     \u001b[0mlat\u001b[0m\u001b[0;34m=\u001b[0m\u001b[0;34m'Lat'\u001b[0m\u001b[0;34m,\u001b[0m\u001b[0;34m\u001b[0m\u001b[0;34m\u001b[0m\u001b[0m\n",
            "\u001b[0;31mNameError\u001b[0m: name 'px' is not defined"
          ]
        }
      ]
    }
  ]
}