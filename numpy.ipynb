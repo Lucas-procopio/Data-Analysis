{
  "nbformat": 4,
  "nbformat_minor": 0,
  "metadata": {
    "colab": {
      "name": "numpy.ipynb",
      "provenance": [],
      "collapsed_sections": [],
      "authorship_tag": "ABX9TyP6tM+QtmtDWMAPAt5Xx4mZ",
      "include_colab_link": true
    },
    "kernelspec": {
      "name": "python3",
      "display_name": "Python 3"
    },
    "language_info": {
      "name": "python"
    }
  },
  "cells": [
    {
      "cell_type": "markdown",
      "metadata": {
        "id": "view-in-github",
        "colab_type": "text"
      },
      "source": [
        "<a href=\"https://colab.research.google.com/github/Lucas-procopio/Data-Analysis/blob/main/numpy.ipynb\" target=\"_parent\"><img src=\"https://colab.research.google.com/assets/colab-badge.svg\" alt=\"Open In Colab\"/></a>"
      ]
    },
    {
      "cell_type": "code",
      "execution_count": 1,
      "metadata": {
        "id": "k2s3s-9UEJlS"
      },
      "outputs": [],
      "source": [
        "#importing lib\n",
        "import numpy as np"
      ]
    },
    {
      "cell_type": "code",
      "source": [
        "# Version\n",
        "print(np.__version__)"
      ],
      "metadata": {
        "colab": {
          "base_uri": "https://localhost:8080/"
        },
        "id": "MJkTjJQrEeo5",
        "outputId": "e5aa577c-45b0-427f-d19d-4918bf2ee962"
      },
      "execution_count": 2,
      "outputs": [
        {
          "output_type": "stream",
          "name": "stdout",
          "text": [
            "1.21.6\n"
          ]
        }
      ]
    },
    {
      "cell_type": "code",
      "source": [
        "# Creating a grid\n",
        "array = np.array([10,20,30,40,50])\n",
        "\n",
        "array"
      ],
      "metadata": {
        "colab": {
          "base_uri": "https://localhost:8080/"
        },
        "id": "a2DmTYx4EkEP",
        "outputId": "5289bbb4-f985-45e1-b4a9-ecec9df7ed7c"
      },
      "execution_count": 4,
      "outputs": [
        {
          "output_type": "execute_result",
          "data": {
            "text/plain": [
              "array([10, 20, 30, 40, 50])"
            ]
          },
          "metadata": {},
          "execution_count": 4
        }
      ]
    },
    {
      "cell_type": "code",
      "source": [
        "type(array)"
      ],
      "metadata": {
        "colab": {
          "base_uri": "https://localhost:8080/"
        },
        "id": "DvWW5AgpEvIn",
        "outputId": "b6d7fbc5-f855-43f5-9f1c-e5fab04abc7d"
      },
      "execution_count": 8,
      "outputs": [
        {
          "output_type": "execute_result",
          "data": {
            "text/plain": [
              "numpy.ndarray"
            ]
          },
          "metadata": {},
          "execution_count": 8
        }
      ]
    },
    {
      "cell_type": "code",
      "source": [
        "duas = np.array([[10, 9, 8, 7, 6],\n",
        "                [5, 4, 3, 2, 1]]\n",
        "                )\n",
        "\n",
        "print(duas)"
      ],
      "metadata": {
        "colab": {
          "base_uri": "https://localhost:8080/"
        },
        "id": "sv-6kGfQE551",
        "outputId": "c6ed3f91-84d0-4cad-bf09-8935f50d6ad8"
      },
      "execution_count": 10,
      "outputs": [
        {
          "output_type": "stream",
          "name": "stdout",
          "text": [
            "[[10  9  8  7  6]\n",
            " [ 5  4  3  2  1]]\n"
          ]
        }
      ]
    },
    {
      "cell_type": "code",
      "source": [
        "tres = np.array([\n",
        "                 [15, 14, 13, 12, 11],\n",
        "                 [10, 9, 8, 7, 6],\n",
        "                 [5, 4, 3, 2, 1]\n",
        "])\n",
        "\n",
        "print(tres)"
      ],
      "metadata": {
        "colab": {
          "base_uri": "https://localhost:8080/"
        },
        "id": "Qmn5LY_fFJdu",
        "outputId": "fae24a81-ad3c-4c0a-89df-3533d819cc3e"
      },
      "execution_count": 11,
      "outputs": [
        {
          "output_type": "stream",
          "name": "stdout",
          "text": [
            "[[15 14 13 12 11]\n",
            " [10  9  8  7  6]\n",
            " [ 5  4  3  2  1]]\n"
          ]
        }
      ]
    },
    {
      "cell_type": "code",
      "source": [
        "# Testing\n",
        "\n",
        "np.arange(10)"
      ],
      "metadata": {
        "colab": {
          "base_uri": "https://localhost:8080/"
        },
        "id": "NQo9QucoFgza",
        "outputId": "e3b98ed1-6ac4-4a7e-fde5-5b94c347cf6e"
      },
      "execution_count": 12,
      "outputs": [
        {
          "output_type": "execute_result",
          "data": {
            "text/plain": [
              "array([0, 1, 2, 3, 4, 5, 6, 7, 8, 9])"
            ]
          },
          "metadata": {},
          "execution_count": 12
        }
      ]
    },
    {
      "cell_type": "code",
      "source": [
        "estressando_NP = np.arange(1000000)\n",
        "estressando_NP_02 = np.arange(5000000)\n",
        "print(len(estressando_NP),len(estressando_NP_02))"
      ],
      "metadata": {
        "colab": {
          "base_uri": "https://localhost:8080/"
        },
        "id": "bb31TLiKFpmw",
        "outputId": "364eb310-f188-429a-bb11-c649328073b2"
      },
      "execution_count": 18,
      "outputs": [
        {
          "output_type": "stream",
          "name": "stdout",
          "text": [
            "1000000 5000000\n"
          ]
        }
      ]
    },
    {
      "cell_type": "code",
      "source": [
        "# 1° Test (calculando o tempo de processamento da variável sem o numpy)\n",
        "%time for loop in estressando_NP: pass"
      ],
      "metadata": {
        "colab": {
          "base_uri": "https://localhost:8080/"
        },
        "id": "1fxMnyznFse0",
        "outputId": "09f67b31-95e1-4c16-d8da-6e4c6dfc3c8d"
      },
      "execution_count": 16,
      "outputs": [
        {
          "output_type": "stream",
          "name": "stdout",
          "text": [
            "CPU times: user 81.8 ms, sys: 407 µs, total: 82.2 ms\n",
            "Wall time: 85.9 ms\n"
          ]
        }
      ]
    },
    {
      "cell_type": "code",
      "source": [
        "#2° test\n",
        "%time for loop in estressando_NP_02: pass"
      ],
      "metadata": {
        "colab": {
          "base_uri": "https://localhost:8080/"
        },
        "id": "WsuyzOpqGFwT",
        "outputId": "25db5a54-bd40-4589-87c2-5dbd94b814ac"
      },
      "execution_count": 19,
      "outputs": [
        {
          "output_type": "stream",
          "name": "stdout",
          "text": [
            "CPU times: user 398 ms, sys: 0 ns, total: 398 ms\n",
            "Wall time: 402 ms\n"
          ]
        }
      ]
    },
    {
      "cell_type": "code",
      "source": [
        ""
      ],
      "metadata": {
        "id": "k75rC4UOGvIh"
      },
      "execution_count": null,
      "outputs": []
    }
  ]
}