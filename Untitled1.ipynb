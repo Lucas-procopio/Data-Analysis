{
  "nbformat": 4,
  "nbformat_minor": 0,
  "metadata": {
    "colab": {
      "name": "Untitled1.ipynb",
      "provenance": [],
      "collapsed_sections": [],
      "toc_visible": true,
      "authorship_tag": "ABX9TyOF/ns82wFn23GNfV8rl1FP",
      "include_colab_link": true
    },
    "kernelspec": {
      "name": "python3",
      "display_name": "Python 3"
    },
    "language_info": {
      "name": "python"
    }
  },
  "cells": [
    {
      "cell_type": "markdown",
      "metadata": {
        "id": "view-in-github",
        "colab_type": "text"
      },
      "source": [
        "<a href=\"https://colab.research.google.com/github/Lucas-procopio/Data-Analysis/blob/main/Untitled1.ipynb\" target=\"_parent\"><img src=\"https://colab.research.google.com/assets/colab-badge.svg\" alt=\"Open In Colab\"/></a>"
      ]
    },
    {
      "cell_type": "code",
      "execution_count": 1,
      "metadata": {
        "id": "LpDO03MIzvq3"
      },
      "outputs": [],
      "source": [
        "#pip install --upgrade google-api-python-client\n",
        "#sudo pip install --upgrade google-api-python-client"
      ]
    },
    {
      "cell_type": "code",
      "source": [
        "import numpy as np\n",
        "import pandas as pd\n",
        "from google.oauth2 import service_account\n",
        "from googleapiclient.discovery import build\n",
        "#from apiclient.discovery import build"
      ],
      "metadata": {
        "id": "Q-FskGUr0SxY"
      },
      "execution_count": 2,
      "outputs": []
    },
    {
      "cell_type": "code",
      "source": [
        "def format_summary(response):\n",
        "    try:\n",
        "        # create row index\n",
        "        try: \n",
        "            row_index_names = response['reports'][0]['columnHeader']['dimensions']\n",
        "            row_index = [ element['dimensions'] for element in response['reports'][0]['data']['rows'] ]\n",
        "            row_index_named = pd.MultiIndex.from_arrays(np.transpose(np.array(row_index)), \n",
        "                                                        names = np.array(row_index_names))\n",
        "        except:\n",
        "            row_index_named = None\n",
        "        \n",
        "        # extract column names\n",
        "        summary_column_names = [item['name'] for item in response['reports'][0]\n",
        "                                ['columnHeader']['metricHeader']['metricHeaderEntries']]\n",
        "    \n",
        "        # extract table values\n",
        "        summary_values = [element['metrics'][0]['values'] for element in response['reports'][0]['data']['rows']]\n",
        "    \n",
        "        # combine. I used type 'float' because default is object, and as far as I know, all values are numeric\n",
        "        df = pd.DataFrame(data = np.array(summary_values), \n",
        "                          index = row_index_named, \n",
        "                          columns = summary_column_names).astype('float')\n",
        "    \n",
        "    except:\n",
        "        df = pd.DataFrame()\n",
        "        \n",
        "    return df\n",
        "\n",
        "def format_pivot(response):\n",
        "    try:\n",
        "        # extract table values\n",
        "        pivot_values = [item['metrics'][0]['pivotValueRegions'][0]['values'] for item in response['reports'][0]\n",
        "                        ['data']['rows']]\n",
        "        \n",
        "        # create column index\n",
        "        top_header = [item['dimensionValues'] for item in response['reports'][0]\n",
        "                      ['columnHeader']['metricHeader']['pivotHeaders'][0]['pivotHeaderEntries']]\n",
        "        column_metrics = [item['metric']['name'] for item in response['reports'][0]\n",
        "                          ['columnHeader']['metricHeader']['pivotHeaders'][0]['pivotHeaderEntries']]\n",
        "        array = np.concatenate((np.array(top_header),\n",
        "                                np.array(column_metrics).reshape((len(column_metrics),1))), \n",
        "                               axis = 1)\n",
        "        column_index = pd.MultiIndex.from_arrays(np.transpose(array))\n",
        "        \n",
        "        # create row index\n",
        "        try:\n",
        "            row_index_names = response['reports'][0]['columnHeader']['dimensions']\n",
        "            row_index = [ element['dimensions'] for element in response['reports'][0]['data']['rows'] ]\n",
        "            row_index_named = pd.MultiIndex.from_arrays(np.transpose(np.array(row_index)), \n",
        "                                                        names = np.array(row_index_names))\n",
        "        except: \n",
        "            row_index_named = None\n",
        "        # combine into a dataframe\n",
        "        df = pd.DataFrame(data = np.array(pivot_values), \n",
        "                          index = row_index_named, \n",
        "                          columns = column_index).astype('float')\n",
        "    except:\n",
        "        df = pd.DataFrame()\n",
        "    return df\n",
        "\n",
        "def format_report(response):\n",
        "    summary = format_summary(response)\n",
        "    pivot = format_pivot(response)\n",
        "    if pivot.columns.nlevels == 2:\n",
        "        summary.columns = [['']*len(summary.columns), summary.columns]\n",
        "    \n",
        "    return(pd.concat([summary, pivot], axis = 1))\n",
        "\n",
        "def run_report(body, credentials_file):\n",
        "    #Create service credentials\n",
        "    credentials = service_account.Credentials.from_service_account_file(credentials_file, \n",
        "                                scopes = ['https://www.googleapis.com/auth/analytics.readonly'])\n",
        "    #Create a service object\n",
        "    service = build('analyticsreporting', 'v4', credentials=credentials)\n",
        "    \n",
        "    #Get GA data\n",
        "    response = service.reports().batchGet(body=body).execute()\n",
        "    \n",
        "    return(format_report(response))"
      ],
      "metadata": {
        "id": "iLzwGJUmGzOC"
      },
      "execution_count": 3,
      "outputs": []
    },
    {
      "cell_type": "code",
      "source": [
        "# python HelloAnalytics.py <-"
      ],
      "metadata": {
        "id": "OWv0yBvibi0O"
      },
      "execution_count": 4,
      "outputs": []
    },
    {
      "cell_type": "code",
      "source": [
        ""
      ],
      "metadata": {
        "id": "iIGkAagLcjuL"
      },
      "execution_count": 4,
      "outputs": []
    },
    {
      "cell_type": "code",
      "source": [
        "your_view_id = '92320289'\n",
        "ga_keys = 'prime-prism-347811-01a3a2d58135.json'"
      ],
      "metadata": {
        "id": "iFE7xkM1PRZG"
      },
      "execution_count": 5,
      "outputs": []
    },
    {
      "cell_type": "code",
      "source": [
        "body = {'reportRequests': [{'viewId': your_view_id, \n",
        "                            'dateRanges': [{'startDate': '2021-01-01', 'endDate': '2021-04-30'}],\n",
        "                            'metrics': [{'expression': 'ga:users'}, \n",
        "                                        {\"expression\": \"ga:bounceRate\"}],\n",
        "                            'dimensions': [{'name': 'ga:yearMonth'}],\n",
        "                            \"pivots\": [{\"dimensions\": [{\"name\": \"ga:channelGrouping\"}],\n",
        "                                        \"metrics\": [{\"expression\": \"ga:users\"},\n",
        "                                                    {\"expression\": \"ga:bounceRate\"}]\n",
        "                                       }]\n",
        "                          }]}"
      ],
      "metadata": {
        "id": "_8ISidozP3Vd"
      },
      "execution_count": 6,
      "outputs": []
    },
    {
      "cell_type": "code",
      "source": [
        "summary_body = {'reportRequests': [{'viewId': your_view_id, \n",
        "                            'dateRanges': [{'startDate': '2021-01-01', 'endDate': '2021-02-28'}],\n",
        "                            'metrics': [{'expression': 'ga:sessions'}, \n",
        "                                        {'expression': 'ga:totalEvents'}, \n",
        "                                        {\"expression\": \"ga:avgSessionDuration\"}],\n",
        "                            'dimensions': [{'name': 'ga:country'}],\n",
        "                          }]}"
      ],
      "metadata": {
        "id": "zurPuXtPP5Ju"
      },
      "execution_count": 7,
      "outputs": []
    },
    {
      "cell_type": "code",
      "source": [
        "pivot_body = {'reportRequests': [{'viewId': your_view_id, \n",
        "                            'dateRanges': [{'startDate': '2021-01-01', 'endDate': '2021-02-28'}],\n",
        "                            'dimensions': [{'name':  \"ga:channelGrouping\"}],\n",
        "                            \"pivots\": [{\"dimensions\": [{\"name\": 'ga:yearMonth'}],\n",
        "                                        \"metrics\": [{\"expression\": \"ga:users\"},\n",
        "                                                    {\"expression\": \"ga:newUsers\"},\n",
        "                                                    {\"expression\": \"ga:timeOnPage\"}]\n",
        "                                       }]\n",
        "                          }]}"
      ],
      "metadata": {
        "id": "IulzMQ_0P63V"
      },
      "execution_count": 8,
      "outputs": []
    },
    {
      "cell_type": "code",
      "source": [
        "short_body = {  \"reportRequests\":\n",
        "  [{\n",
        "      \"viewId\": your_view_id,\n",
        "      \"dateRanges\": [{\"startDate\": \"7daysAgo\", \"endDate\": \"yesterday\"}],\n",
        "      \"metrics\": [{\"expression\": \"ga:users\"}]\n",
        "    }]}"
      ],
      "metadata": {
        "id": "p4TsLxwoP8i4"
      },
      "execution_count": 9,
      "outputs": []
    },
    {
      "cell_type": "code",
      "source": [
        "untidy_body = {'reportRequests': [{'viewId': your_view_id, \n",
        "                            'dateRanges': [{'startDate': '2021-01-01', 'endDate': '2021-02-28'}],\n",
        "                            \"pivots\": [{\"dimensions\": [{\"name\": 'ga:yearMonth'}, {\"name\": \"ga:channelGrouping\"}],\n",
        "                                        \"metrics\": [{\"expression\": \"ga:users\"},\n",
        "                                                    {\"expression\": \"ga:timeOnPage\"}]\n",
        "                                       }]\n",
        "                          }]}"
      ],
      "metadata": {
        "id": "pNlJoNbKP97B"
      },
      "execution_count": 10,
      "outputs": []
    },
    {
      "cell_type": "code",
      "source": [
        "ga_report = run_report(summary_body, ga_keys)\n",
        "\n",
        "#https://www.youtube.com/watch?v=N2bbJQroGB4"
      ],
      "metadata": {
        "colab": {
          "base_uri": "https://localhost:8080/",
          "height": 606
        },
        "id": "Tb254zmhP_b_",
        "outputId": "93631866-b9b0-4108-c0b1-cf49865e9e9b"
      },
      "execution_count": 11,
      "outputs": [
        {
          "output_type": "error",
          "ename": "FileNotFoundError",
          "evalue": "ignored",
          "traceback": [
            "\u001b[0;31m---------------------------------------------------------------------------\u001b[0m",
            "\u001b[0;31mFileNotFoundError\u001b[0m                         Traceback (most recent call last)",
            "\u001b[0;32m<ipython-input-11-3bf7d229a2f3>\u001b[0m in \u001b[0;36m<module>\u001b[0;34m()\u001b[0m\n\u001b[0;32m----> 1\u001b[0;31m \u001b[0mga_report\u001b[0m \u001b[0;34m=\u001b[0m \u001b[0mrun_report\u001b[0m\u001b[0;34m(\u001b[0m\u001b[0msummary_body\u001b[0m\u001b[0;34m,\u001b[0m \u001b[0mga_keys\u001b[0m\u001b[0;34m)\u001b[0m\u001b[0;34m\u001b[0m\u001b[0;34m\u001b[0m\u001b[0m\n\u001b[0m\u001b[1;32m      2\u001b[0m \u001b[0;34m\u001b[0m\u001b[0m\n\u001b[1;32m      3\u001b[0m \u001b[0;31m#https://www.youtube.com/watch?v=N2bbJQroGB4\u001b[0m\u001b[0;34m\u001b[0m\u001b[0;34m\u001b[0m\u001b[0;34m\u001b[0m\u001b[0m\n",
            "\u001b[0;32m<ipython-input-3-4eef9aac9ba0>\u001b[0m in \u001b[0;36mrun_report\u001b[0;34m(body, credentials_file)\u001b[0m\n\u001b[1;32m     70\u001b[0m     \u001b[0;31m#Create service credentials\u001b[0m\u001b[0;34m\u001b[0m\u001b[0;34m\u001b[0m\u001b[0;34m\u001b[0m\u001b[0m\n\u001b[1;32m     71\u001b[0m     credentials = service_account.Credentials.from_service_account_file(credentials_file, \n\u001b[0;32m---> 72\u001b[0;31m                                 scopes = ['https://www.googleapis.com/auth/analytics.readonly'])\n\u001b[0m\u001b[1;32m     73\u001b[0m     \u001b[0;31m#Create a service object\u001b[0m\u001b[0;34m\u001b[0m\u001b[0;34m\u001b[0m\u001b[0;34m\u001b[0m\u001b[0m\n\u001b[1;32m     74\u001b[0m     \u001b[0mservice\u001b[0m \u001b[0;34m=\u001b[0m \u001b[0mbuild\u001b[0m\u001b[0;34m(\u001b[0m\u001b[0;34m'analyticsreporting'\u001b[0m\u001b[0;34m,\u001b[0m \u001b[0;34m'v4'\u001b[0m\u001b[0;34m,\u001b[0m \u001b[0mcredentials\u001b[0m\u001b[0;34m=\u001b[0m\u001b[0mcredentials\u001b[0m\u001b[0;34m)\u001b[0m\u001b[0;34m\u001b[0m\u001b[0;34m\u001b[0m\u001b[0m\n",
            "\u001b[0;32m/usr/local/lib/python3.7/dist-packages/google/oauth2/service_account.py\u001b[0m in \u001b[0;36mfrom_service_account_file\u001b[0;34m(cls, filename, **kwargs)\u001b[0m\n\u001b[1;32m    237\u001b[0m         \"\"\"\n\u001b[1;32m    238\u001b[0m         info, signer = _service_account_info.from_filename(\n\u001b[0;32m--> 239\u001b[0;31m             \u001b[0mfilename\u001b[0m\u001b[0;34m,\u001b[0m \u001b[0mrequire\u001b[0m\u001b[0;34m=\u001b[0m\u001b[0;34m[\u001b[0m\u001b[0;34m\"client_email\"\u001b[0m\u001b[0;34m,\u001b[0m \u001b[0;34m\"token_uri\"\u001b[0m\u001b[0;34m]\u001b[0m\u001b[0;34m\u001b[0m\u001b[0;34m\u001b[0m\u001b[0m\n\u001b[0m\u001b[1;32m    240\u001b[0m         )\n\u001b[1;32m    241\u001b[0m         \u001b[0;32mreturn\u001b[0m \u001b[0mcls\u001b[0m\u001b[0;34m.\u001b[0m\u001b[0m_from_signer_and_info\u001b[0m\u001b[0;34m(\u001b[0m\u001b[0msigner\u001b[0m\u001b[0;34m,\u001b[0m \u001b[0minfo\u001b[0m\u001b[0;34m,\u001b[0m \u001b[0;34m**\u001b[0m\u001b[0mkwargs\u001b[0m\u001b[0;34m)\u001b[0m\u001b[0;34m\u001b[0m\u001b[0;34m\u001b[0m\u001b[0m\n",
            "\u001b[0;32m/usr/local/lib/python3.7/dist-packages/google/auth/_service_account_info.py\u001b[0m in \u001b[0;36mfrom_filename\u001b[0;34m(filename, require)\u001b[0m\n\u001b[1;32m     70\u001b[0m             \u001b[0minfo\u001b[0m \u001b[0;32mand\u001b[0m \u001b[0ma\u001b[0m \u001b[0msigner\u001b[0m \u001b[0minstance\u001b[0m\u001b[0;34m.\u001b[0m\u001b[0;34m\u001b[0m\u001b[0;34m\u001b[0m\u001b[0m\n\u001b[1;32m     71\u001b[0m     \"\"\"\n\u001b[0;32m---> 72\u001b[0;31m     \u001b[0;32mwith\u001b[0m \u001b[0mio\u001b[0m\u001b[0;34m.\u001b[0m\u001b[0mopen\u001b[0m\u001b[0;34m(\u001b[0m\u001b[0mfilename\u001b[0m\u001b[0;34m,\u001b[0m \u001b[0;34m\"r\"\u001b[0m\u001b[0;34m,\u001b[0m \u001b[0mencoding\u001b[0m\u001b[0;34m=\u001b[0m\u001b[0;34m\"utf-8\"\u001b[0m\u001b[0;34m)\u001b[0m \u001b[0;32mas\u001b[0m \u001b[0mjson_file\u001b[0m\u001b[0;34m:\u001b[0m\u001b[0;34m\u001b[0m\u001b[0;34m\u001b[0m\u001b[0m\n\u001b[0m\u001b[1;32m     73\u001b[0m         \u001b[0mdata\u001b[0m \u001b[0;34m=\u001b[0m \u001b[0mjson\u001b[0m\u001b[0;34m.\u001b[0m\u001b[0mload\u001b[0m\u001b[0;34m(\u001b[0m\u001b[0mjson_file\u001b[0m\u001b[0;34m)\u001b[0m\u001b[0;34m\u001b[0m\u001b[0;34m\u001b[0m\u001b[0m\n\u001b[1;32m     74\u001b[0m         \u001b[0;32mreturn\u001b[0m \u001b[0mdata\u001b[0m\u001b[0;34m,\u001b[0m \u001b[0mfrom_dict\u001b[0m\u001b[0;34m(\u001b[0m\u001b[0mdata\u001b[0m\u001b[0;34m,\u001b[0m \u001b[0mrequire\u001b[0m\u001b[0;34m=\u001b[0m\u001b[0mrequire\u001b[0m\u001b[0;34m)\u001b[0m\u001b[0;34m\u001b[0m\u001b[0;34m\u001b[0m\u001b[0m\n",
            "\u001b[0;31mFileNotFoundError\u001b[0m: [Errno 2] No such file or directory: 'prime-prism-347811-01a3a2d58135.json'"
          ]
        }
      ]
    },
    {
      "cell_type": "code",
      "source": [
        "ga_report"
      ],
      "metadata": {
        "id": "f7rJqA3l9otA"
      },
      "execution_count": null,
      "outputs": []
    }
  ]
}